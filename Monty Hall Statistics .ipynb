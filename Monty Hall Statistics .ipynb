{
 "cells": [
  {
   "cell_type": "code",
   "execution_count": 1,
   "metadata": {},
   "outputs": [],
   "source": [
    "import numpy as np\n",
    "import random\n",
    "import matplotlib.pyplot as plt"
   ]
  },
  {
   "cell_type": "code",
   "execution_count": 2,
   "metadata": {},
   "outputs": [],
   "source": [
    "def monty_hall():\n",
    "    doors = ['goat','goat','car']\n",
    "    random.shuffle(doors)\n",
    "    guess = random.randint(0,2)\n",
    "    #return will go like that:\n",
    "    #(winSwitch, loseSwitch)\n",
    "    \n",
    "    opened = random.randint(0,2)\n",
    "    while(opened!=guess and doors[opened]!='car'):\n",
    "        opened = random.randint(0,2)\n",
    "    \n",
    "    remainingDoor = 0\n",
    "    for i in range(3):\n",
    "        if i!=opened and i!=guess:\n",
    "            remainingDoor = i\n",
    "    if doors[guess] =='car':\n",
    "        return (0,1)\n",
    "    else:\n",
    "        return (1,0)"
   ]
  },
  {
   "cell_type": "code",
   "execution_count": 3,
   "metadata": {},
   "outputs": [
    {
     "name": "stdout",
     "output_type": "stream",
     "text": [
      "[0.666831, 0.333169]\n"
     ]
    }
   ],
   "source": [
    "results = [0,0]\n",
    "games = 1000000\n",
    "for i in range(games):\n",
    "    res = monty_hall()\n",
    "    results[0]+=res[0]\n",
    "    results[1]+=res[1]\n",
    "results[0]/=games\n",
    "results[1]/=games\n",
    "print (results)"
   ]
  },
  {
   "cell_type": "code",
   "execution_count": 4,
   "metadata": {},
   "outputs": [
    {
     "data": {
      "image/png": "[encoded data removed]",
      "text/plain": [
       "<Figure size 432x288 with 1 Axes>"
      ]
     },
     "metadata": {
      "needs_background": "light"
     },
     "output_type": "display_data"
    }
   ],
   "source": [
    "state = ('Switched', 'Maintained')\n",
    "y_pos = np.arange(len(state))\n",
    "error = np.random.rand(len(state))\n",
    "\n",
    "\n",
    "plt.barh(y_pos, results, align='center', alpha=0.4)\n",
    "plt.yticks(y_pos, state)\n",
    "plt.xlabel('Probability')\n",
    "plt.title('Should you switch?')\n",
    "\n",
    "plt.show()"
   ]
  },
  {
   "cell_type": "code",
   "execution_count": null,
   "metadata": {},
   "outputs": [],
   "source": []
  }
 ],
 "metadata": {
  "kernelspec": {
   "display_name": "Python 3",
   "language": "python",
   "name": "python3"
  },
  "language_info": {
   "codemirror_mode": {
    "name": "ipython",
    "version": 3
   },
   "file_extension": ".py",
   "mimetype": "text/x-python",
   "name": "python",
   "nbconvert_exporter": "python",
   "pygments_lexer": "ipython3",
   "version": "3.7.0"
  }
 },
 "nbformat": 4,
 "nbformat_minor": 2
}
